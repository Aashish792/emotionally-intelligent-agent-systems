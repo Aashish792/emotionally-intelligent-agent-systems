{
 "cells": [
  {
   "cell_type": "code",
   "execution_count": null,
   "metadata": {},
   "outputs": [],
   "source": [
    "from src.agent import Agent\n",
    "from src.interaction_manager import InteractionManager\n",
    "from src.visualizer import plot_emotions\n",
    "\n",
    "# Setup agents\n",
    "maya = Agent(\"Maya\")\n",
    "leo = Agent(\"Leo\")\n",
    "manager = InteractionManager([maya, leo])\n",
    "\n",
    "# Run demo\n",
    "stimuli = [\n",
    "    {\"Maya\": \"encouragement\", \"Leo\": \"loss\"},\n",
    "    {\"Maya\": \"joke\", \"Leo\": \"criticism\"},\n",
    "    {\"Maya\": \"conflict\", \"Leo\": \"encouragement\"},\n",
    "    {\"Maya\": \"silence\", \"Leo\": \"joke\"}\n",
    "]\n",
    "\n",
    "for turn, stimulus in enumerate(stimuli):\n",
    "    print(f\"\\n=== Round {turn+1} ===\")\n",
    "    result = manager.run_turn(stimulus)\n",
    "    for line in result:\n",
    "        print(line)\n",
    "    plot_emotions([maya, leo])\n"
   ]
  }
 ],
 "metadata": {
  "language_info": {
   "name": "python"
  }
 },
 "nbformat": 4,
 "nbformat_minor": 2
}
