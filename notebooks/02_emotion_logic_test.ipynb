{
 "cells": [
  {
   "cell_type": "code",
   "execution_count": null,
   "metadata": {},
   "outputs": [],
   "source": [
    "from src.emotion_model import interpret_emotion\n",
    "\n",
    "test_inputs = [\n",
    "    \"encouragement\",\n",
    "    \"criticism\",\n",
    "    \"loss\",\n",
    "    \"joke\",\n",
    "    \"conflict\",\n",
    "    \"unknown\"\n",
    "]\n",
    "\n",
    "print(\"Emotion Mapping Test\")\n",
    "for item in test_inputs:\n",
    "    emotion = interpret_emotion(item)\n",
    "    print(f\"Input: {item} → Emotion: {emotion}\")\n"
   ]
  }
 ],
 "metadata": {
  "language_info": {
   "name": "python"
  }
 },
 "nbformat": 4,
 "nbformat_minor": 2
}
